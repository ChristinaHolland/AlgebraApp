{
 "cells": [
  {
   "cell_type": "markdown",
   "metadata": {},
   "source": [
    "### Functions for the app\n",
    "\n",
    "These functions take in two algebraic equations as strings and evaluate whether or not they are logically equivalent."
   ]
  },
  {
   "cell_type": "code",
   "execution_count": 191,
   "metadata": {},
   "outputs": [],
   "source": [
    "import numpy as np\n",
    "import re\n",
    "import random"
   ]
  },
  {
   "cell_type": "code",
   "execution_count": 9,
   "metadata": {},
   "outputs": [],
   "source": [
    "def replace_x(expression,substring,val):\n",
    "    # This function replaces 'x' or any specified substring, with the string of a value\n",
    "    expression = expression.replace('0'+substring,f'0*{val}')\n",
    "    expression = expression.replace('1'+substring,f'1*{val}')\n",
    "    expression = expression.replace('2'+substring,f'2*{val}')\n",
    "    expression = expression.replace('3'+substring,f'3*{val}')\n",
    "    expression = expression.replace('4'+substring,f'4*{val}')\n",
    "    expression = expression.replace('5'+substring,f'5*{val}')\n",
    "    expression = expression.replace('6'+substring,f'6*{val}')\n",
    "    expression = expression.replace('7'+substring,f'7*{val}')\n",
    "    expression = expression.replace('8'+substring,f'8*{val}')\n",
    "    expression = expression.replace('9'+substring,f'9*{val}')\n",
    "    expression = expression.replace('.'+substring,f'*{val}')\n",
    "    expression = expression.replace(substring,    f'{val}')   \n",
    "    return expression\n"
   ]
  },
  {
   "cell_type": "code",
   "execution_count": 3,
   "metadata": {},
   "outputs": [],
   "source": [
    "def get_val(expression,val):\n",
    "    # This function evaluates an algebraic expression of x (input as string) at a specified value\n",
    "    # It calls the function \"replace_x\" which puts the value (as a string) into the expression,\n",
    "    # then evaluates the string\n",
    "    if '(' not in expression:\n",
    "        # distribution not required\n",
    "        expression = replace_x(expression,'x',val)\n",
    "        return eval(expression)\n",
    "    else:\n",
    "        # distribution is required\n",
    "        while '(' in expression:\n",
    "            start = expression.index('(')\n",
    "            end   = expression.index(')')\n",
    "            # the part of the expression within the parentheses:\n",
    "            mini_exp = expression[(start+1):end]\n",
    "            mini_val = get_val(mini_exp,val)\n",
    "            with_parens = expression[start:(end+1)]\n",
    "            expression = replace_x(expression,with_parens,mini_val)\n",
    "        # back to the entire expression\n",
    "        expression = replace_x(expression,'x',val)\n",
    "        return eval(expression)\n",
    "    "
   ]
  },
  {
   "cell_type": "code",
   "execution_count": 167,
   "metadata": {},
   "outputs": [],
   "source": [
    "\n",
    "def check_logic(prior, current):\n",
    "    # This function compares two complete equations for logical equivalency\n",
    "    #\n",
    "    # remove all whitespace - this doesn't matter for checking logical consistency,\n",
    "    # but does matter for checking for a solution where one side is just 'x'\n",
    "    prior = prior.replace(' ','')\n",
    "    current = current.replace(' ','')\n",
    "    #\n",
    "    # set up an array of test values - equations are all linear so we technically only need 2 test values\n",
    "    # I set it to 21 in an abundance of caution, while still keeping the run time efficient\n",
    "    check_vals = np.linspace(-10,10,21)\n",
    "    # check that both equations are valid equations:\n",
    "    chk0, solved, output_str = check_input_equation(prior)\n",
    "    if chk0==False:\n",
    "        output_str += ' [Error: prior line is not an equation]'\n",
    "        return False, solved, output_str\n",
    "    elif check_input_equation(current)==False:\n",
    "        output_str += ' [Error: new line is not an equation]'\n",
    "        return False, solved, output_str\n",
    "    else:\n",
    "        # split both equations into the left side and right side:\n",
    "        prior = prior.split('=')\n",
    "        current = current.split('=')\n",
    "    # check all test values\n",
    "    #\n",
    "    # whether or not the test value makes either equation true, the discrepancy shouls stay the same - \n",
    "    # left - right for the 1st equation should equal left - right for the 2nd equation, so\n",
    "    # (old_left - old_right) - (new_left - new_right) should equal zero or have a constant ratio for all test vals.\n",
    "    chk_sum = []\n",
    "    ratio = []\n",
    "    for cv in check_vals:\n",
    "        old_left  = get_val(prior[0],cv)\n",
    "        old_right = get_val(prior[1],cv)\n",
    "        new_left  = get_val(current[0],cv)\n",
    "        new_right = get_val(current[1],cv)\n",
    "        \n",
    "        # print statements for debugging specific cases:\n",
    "        #print(f'check_val = {cv}')\n",
    "        #print(f'1st eqn: left = {old_left}, right = {old_right}, left - right = {old_left-old_right}')\n",
    "        #print(f'2nd eqn: left = {new_left}, right = {new_right}, left - right = {new_left-new_right}')\n",
    "        \n",
    "        # round after 6 decimal places to prevent computational error from throwing false logical errors\n",
    "        # + put in absolute value to account for user switching the left and right sides -- logically allowed.\n",
    "        chk0 = np.abs(np.round(np.abs(old_left - old_right) - np.abs(new_left - new_right),6))\n",
    "        chk_sum.append(chk0)\n",
    "        # have to exclude the solution, if it is in the test set, to avoid dividing by zero:\n",
    "        if np.abs(new_left - new_right)>0:\n",
    "            ratio0=np.abs(np.round(np.abs(old_left - old_right) / np.abs(new_left - new_right),6))\n",
    "            ratio.append(ratio0)\n",
    "    # output\n",
    "    output_old = output_str # string returned from checking the new equation\n",
    "    chk_ratio = np.abs(np.round(max(ratio)-min(ratio),6))\n",
    "    if (max(chk_sum)==0) or (chk_ratio==0):\n",
    "        output_str = 'These two lines are algebraically equivalent'\n",
    "        # is it solved?\n",
    "        # If so, only one character from this string should show up: 'x', exactly once,\n",
    "        # and one side or the other should be exactly equal to 'x'\n",
    "        operations = '+-*/()x'\n",
    "        solvedx = sum([1 for c in current[0] if c in operations] + [1 for c in current[1] if c in operations])\n",
    "        if ((current[0]=='x') or (current[1]=='x')) and (solvedx==1):\n",
    "            output_str += ', and you solved the equation!'\n",
    "            return True, True, output_str\n",
    "        elif solved==1:\n",
    "            output_str += ' - ' + output_old\n",
    "            return True, True, output_str\n",
    "        else:\n",
    "            return True, False, output_str\n",
    "    else:\n",
    "        output_str = 'These two lines are NOT equivalent'\n",
    "        return False, False, output_str\n",
    "    "
   ]
  },
  {
   "cell_type": "markdown",
   "metadata": {},
   "source": [
    "Testing:"
   ]
  },
  {
   "cell_type": "code",
   "execution_count": 168,
   "metadata": {},
   "outputs": [
    {
     "data": {
      "text/plain": [
       "(True, False, 'These two lines are algebraically equivalent')"
      ]
     },
     "execution_count": 168,
     "metadata": {},
     "output_type": "execute_result"
    }
   ],
   "source": [
    "check_logic('3x + 5 = 17','3x=12')"
   ]
  },
  {
   "cell_type": "code",
   "execution_count": 169,
   "metadata": {},
   "outputs": [
    {
     "data": {
      "text/plain": [
       "(False, False, 'These two lines are NOT equivalent')"
      ]
     },
     "execution_count": 169,
     "metadata": {},
     "output_type": "execute_result"
    }
   ],
   "source": [
    "check_logic('3x + 5 = 17','3x = 22')"
   ]
  },
  {
   "cell_type": "code",
   "execution_count": 170,
   "metadata": {},
   "outputs": [
    {
     "data": {
      "text/plain": [
       "(True, False, 'These two lines are algebraically equivalent')"
      ]
     },
     "execution_count": 170,
     "metadata": {},
     "output_type": "execute_result"
    }
   ],
   "source": [
    "check_logic('3(x-2)=5','3x-6=5')"
   ]
  },
  {
   "cell_type": "code",
   "execution_count": 171,
   "metadata": {},
   "outputs": [
    {
     "data": {
      "text/plain": [
       "(False, False, 'These two lines are NOT equivalent')"
      ]
     },
     "execution_count": 171,
     "metadata": {},
     "output_type": "execute_result"
    }
   ],
   "source": [
    "check_logic('3(x-2)=5','3x-2=5')"
   ]
  },
  {
   "cell_type": "code",
   "execution_count": 172,
   "metadata": {},
   "outputs": [
    {
     "data": {
      "text/plain": [
       "(True, False, 'These two lines are algebraically equivalent')"
      ]
     },
     "execution_count": 172,
     "metadata": {},
     "output_type": "execute_result"
    }
   ],
   "source": [
    "check_logic('2x+7+2(-3x+2)=-8x-14+3(2x+5)','2x+7-6x+4=-8x-14+6x+15')"
   ]
  },
  {
   "cell_type": "code",
   "execution_count": 173,
   "metadata": {},
   "outputs": [
    {
     "data": {
      "text/plain": [
       "(True, False, 'These two lines are algebraically equivalent')"
      ]
     },
     "execution_count": 173,
     "metadata": {},
     "output_type": "execute_result"
    }
   ],
   "source": [
    "check_logic('2x+7-6x+4=-8x-14+6x+15','-4x+11=-2x+1')"
   ]
  },
  {
   "cell_type": "code",
   "execution_count": 174,
   "metadata": {},
   "outputs": [
    {
     "data": {
      "text/plain": [
       "(True, False, 'These two lines are algebraically equivalent')"
      ]
     },
     "execution_count": 174,
     "metadata": {},
     "output_type": "execute_result"
    }
   ],
   "source": [
    "check_logic('-4x+11=-2x+1','11=2x+1')"
   ]
  },
  {
   "cell_type": "code",
   "execution_count": 175,
   "metadata": {},
   "outputs": [
    {
     "data": {
      "text/plain": [
       "(True, False, 'These two lines are algebraically equivalent')"
      ]
     },
     "execution_count": 175,
     "metadata": {},
     "output_type": "execute_result"
    }
   ],
   "source": [
    "check_logic('11=2x+1','10=2x')"
   ]
  },
  {
   "cell_type": "code",
   "execution_count": 176,
   "metadata": {},
   "outputs": [
    {
     "data": {
      "text/plain": [
       "(True, False, 'These two lines are algebraically equivalent')"
      ]
     },
     "execution_count": 176,
     "metadata": {},
     "output_type": "execute_result"
    }
   ],
   "source": [
    "check_logic('11=2x+1','2x=10')"
   ]
  },
  {
   "cell_type": "code",
   "execution_count": 177,
   "metadata": {},
   "outputs": [
    {
     "data": {
      "text/plain": [
       "(True,\n",
       " True,\n",
       " 'These two lines are algebraically equivalent, and you solved the equation!')"
      ]
     },
     "execution_count": 177,
     "metadata": {},
     "output_type": "execute_result"
    }
   ],
   "source": [
    "check_logic('2x=10','x   = 5')"
   ]
  },
  {
   "cell_type": "code",
   "execution_count": 190,
   "metadata": {},
   "outputs": [],
   "source": [
    "def check_input_equation(equation):\n",
    "    # This function is for when a userr chooses to type in a starting equation, \n",
    "    # checks to see if is it valid and of the specified form.\n",
    "    \n",
    "    # initialize return variables:\n",
    "    valid = False\n",
    "    solved = False\n",
    "    output_str = ''\n",
    "    \n",
    "    # is it even an equation?\n",
    "    num_equal = len([m.start() for m in re.finditer('=', equation)])\n",
    "    if num_equal != 1:\n",
    "        output_str = 'Sorry, this is not a valid equation; please retype.'\n",
    "        return valid, solved, output_str\n",
    "    \n",
    "    # check both sides now:\n",
    "    sides = equation.split('=')\n",
    "\n",
    "    #left side parentheses check - note that 'finditer' breaks when searching for parentheses, so do a replace first\n",
    "    left = sides[0].replace('(','@@@@')\n",
    "    left = left.replace(')','%%%%')\n",
    "    num_open = len([m.start() for m in re.finditer('@@@@', left)])\n",
    "    num_close= len([m.start() for m in re.finditer('%%%%', left)])\n",
    "    if num_open != num_close:\n",
    "        output_str = 'Your left side appears to have unmatched parentheses; please retype.'\n",
    "        return valid, solved, output_str\n",
    "    if num_open > 1:\n",
    "        output_str = 'Sorry, at this time the app can only handle one distribution per side.'\n",
    "        return valid, solved, output_str\n",
    "    #right side parentheses check:\n",
    "    right = sides[1].replace('(','@@@@')\n",
    "    right = right.replace(')','%%%%')\n",
    "    num_open = len([m.start() for m in re.finditer('@@@@', right)])\n",
    "    num_close= len([m.start() for m in re.finditer('%%%%', right)])\n",
    "    if num_open != num_close:\n",
    "        output_str = 'Your right side appears to have unmatched parentheses; please retype.'\n",
    "        return valid, solved, output_str\n",
    "    if num_open > 1:\n",
    "        output_str = 'Sorry, at this time the app can only handle one distribution per side.'\n",
    "        return valid, solved, output_str\n",
    "    \n",
    "    # check that the equation uses only 'x':\n",
    "    other_variables = 'abcdefghijklmnopqrstuvwyz'\n",
    "    other_variables += other_variables.upper()\n",
    "    if sum([1 for c in other_variables if c in equation])>0:\n",
    "        output_str = 'Please retype your equation using \"x\" as your variable.'\n",
    "        return valid, solved, output_str\n",
    "    \n",
    "    # if there is no variable, it can still be valid, at the end of the solving process:\n",
    "    if 'x' not in equation:\n",
    "        left = get_val(sides[0],0)\n",
    "        right = get_val(sides[1],0)\n",
    "        if  left != right:\n",
    "            output_str = 'Your equation does not have a variable, and is false. (no solution)'\n",
    "            valid = True\n",
    "            solved = True\n",
    "            return valid, solved, output_str\n",
    "        else: \n",
    "            output_str = 'Your equation does not have a variable, and is true. (infinite solutions)'\n",
    "            valid = True\n",
    "            solved = True\n",
    "            return valid, solved, output_str\n",
    "    \n",
    "    # if all checks passed:\n",
    "    valid = True\n",
    "    return valid, solved, output_str\n",
    "\n",
    "# https://stackoverflow.com/questions/4664850/how-to-find-all-occurrences-of-a-substring"
   ]
  },
  {
   "cell_type": "code",
   "execution_count": 179,
   "metadata": {},
   "outputs": [
    {
     "data": {
      "text/plain": [
       "(True, False, '')"
      ]
     },
     "execution_count": 179,
     "metadata": {},
     "output_type": "execute_result"
    }
   ],
   "source": [
    "check_input_equation('11=2x+1')"
   ]
  },
  {
   "cell_type": "code",
   "execution_count": 180,
   "metadata": {},
   "outputs": [
    {
     "data": {
      "text/plain": [
       "(False, False, 'Sorry, this is not a valid equation; please retype.')"
      ]
     },
     "execution_count": 180,
     "metadata": {},
     "output_type": "execute_result"
    }
   ],
   "source": [
    "check_input_equation('2x+1')"
   ]
  },
  {
   "cell_type": "code",
   "execution_count": 181,
   "metadata": {},
   "outputs": [
    {
     "data": {
      "text/plain": [
       "(False, False, 'Sorry, this is not a valid equation; please retype.')"
      ]
     },
     "execution_count": 181,
     "metadata": {},
     "output_type": "execute_result"
    }
   ],
   "source": [
    "check_input_equation('5 = 2x+1=6')"
   ]
  },
  {
   "cell_type": "code",
   "execution_count": 182,
   "metadata": {},
   "outputs": [
    {
     "data": {
      "text/plain": [
       "(True, False, '')"
      ]
     },
     "execution_count": 182,
     "metadata": {},
     "output_type": "execute_result"
    }
   ],
   "source": [
    "check_input_equation('3(2x+1) = 2x + 4')"
   ]
  },
  {
   "cell_type": "code",
   "execution_count": 183,
   "metadata": {},
   "outputs": [
    {
     "data": {
      "text/plain": [
       "(True, False, '')"
      ]
     },
     "execution_count": 183,
     "metadata": {},
     "output_type": "execute_result"
    }
   ],
   "source": [
    "check_input_equation('3(2x+1) = 2(x + 4)')"
   ]
  },
  {
   "cell_type": "code",
   "execution_count": 184,
   "metadata": {},
   "outputs": [
    {
     "data": {
      "text/plain": [
       "(False,\n",
       " False,\n",
       " 'Sorry, at this time the app can only handle one distribution per side.')"
      ]
     },
     "execution_count": 184,
     "metadata": {},
     "output_type": "execute_result"
    }
   ],
   "source": [
    "check_input_equation('3(2(x-3)+1) = 2(x + 4)')"
   ]
  },
  {
   "cell_type": "code",
   "execution_count": 185,
   "metadata": {},
   "outputs": [
    {
     "data": {
      "text/plain": [
       "(False, False, 'Please retype your equation using \"x\" as your variable.')"
      ]
     },
     "execution_count": 185,
     "metadata": {},
     "output_type": "execute_result"
    }
   ],
   "source": [
    "check_input_equation('3(2y+1) = 2(y + 4)')"
   ]
  },
  {
   "cell_type": "code",
   "execution_count": 186,
   "metadata": {},
   "outputs": [
    {
     "data": {
      "text/plain": [
       "(True,\n",
       " True,\n",
       " 'Your equation does not have a variable, and is true. (infinite solutions)')"
      ]
     },
     "execution_count": 186,
     "metadata": {},
     "output_type": "execute_result"
    }
   ],
   "source": [
    "check_input_equation('3 = 9 - 6')"
   ]
  },
  {
   "cell_type": "code",
   "execution_count": 187,
   "metadata": {},
   "outputs": [
    {
     "data": {
      "text/plain": [
       "(True,\n",
       " True,\n",
       " 'Your equation does not have a variable, and is false. (no solution)')"
      ]
     },
     "execution_count": 187,
     "metadata": {},
     "output_type": "execute_result"
    }
   ],
   "source": [
    "check_input_equation('3 = 9 - 5')"
   ]
  },
  {
   "cell_type": "code",
   "execution_count": 223,
   "metadata": {},
   "outputs": [],
   "source": [
    "def make_equation(x_on_both, distribution, combining):\n",
    "    \n",
    "    # x_on_both is binary, distribution and combining are 0,1,2: 0 = neither side, 1 = one side, 2 = both sides\n",
    "    \n",
    "    # allowed coefficients:\n",
    "    coefs = list(range(1,11))\n",
    "    # choose random coefficients from this list:\n",
    "    coefs = [random.choice(coefs) for n in range(10)]\n",
    "\n",
    "    if x_on_both == 1:\n",
    "    \n",
    "        if combining == 2:\n",
    "            if distribution == 2:\n",
    "                # distribution and combining on both sides: (1024 cases)\n",
    "                # ax + b + c(dx + f) = gx + h + i(jx + k)\n",
    "                case = random.choice(list(range(1024)))\n",
    "                if case//512       == 0: equation  = f'{coefs[0]}x'\n",
    "                else:                    equation  = f' -{coefs[0]}x'\n",
    "                if (case%512)//256 == 0: equation += f' +{coefs[1]}'\n",
    "                else:                    equation += f' - {coefs[1]}'\n",
    "                if (case%256)//128 == 0: equation += f' + {coefs[2]}('\n",
    "                else:                    equation += f' - {coefs[2]}('\n",
    "                if (case%128)//64  == 0: equation += f'{coefs[3]}x'\n",
    "                else:                    equation += f'-{coefs[3]}x'\n",
    "                if (case%64)//32   == 0: equation += f' + {coefs[4]}) ='\n",
    "                else:                    equation += f' - {coefs[4]}) ='\n",
    "                if (case%32)//16   == 0: equation += f' {coefs[5]}x'\n",
    "                else:                    equation += f' -{coefs[5]}x'\n",
    "                if (case%16)//8    == 0: equation += f' + {coefs[6]}'\n",
    "                else:                    equation += f' - {coefs[6]}'\n",
    "                if (case%8)//4     == 0: equation += f' + {coefs[7]}('\n",
    "                else:                    equation += f' - {coefs[7]}('\n",
    "                if (case%4)//2     == 0: equation += f'{coefs[8]}x'\n",
    "                else:                    equation += f'-{coefs[8]}x'\n",
    "                if case%2          == 0: equation += f' + {coefs[9]})'\n",
    "                else:                    equation += f' - {coefs[9]})'\n",
    "                \n",
    "            elif distribution == 1:\n",
    "                # distribution on one side and combining on both sides: (1024 cases)\n",
    "                case = random.choice(list(range(1024)))\n",
    "                if case//512 == 0:\n",
    "                    # ax + b + cx + d = fx + g + h(jx + k)\n",
    "                    if (case%512)//256 == 0: equation  = f'{coefs[0]}x'\n",
    "                    else:                    equation  = f'-{coefs[0]}x'\n",
    "                    if (case%256)//128 == 0: equation += f' + {coefs[1]}'\n",
    "                    else:                    equation += f' - {coefs[1]}'\n",
    "                    if (case%128)//64  == 0: equation += f' + {coefs[2]}x'\n",
    "                    else:                    equation += f' - {coefs[2]}x'\n",
    "                    if (case%64)//32   == 0: equation += f' + {coefs[3]} ='\n",
    "                    else:                    equation += f' - {coefs[3]} ='\n",
    "                    if (case%32)//16   == 0: equation += f' {coefs[4]}x'\n",
    "                    else:                    equation += f' -{coefs[4]}x'\n",
    "                    if (case%16)//8    == 0: equation += f' + {coefs[5]}'\n",
    "                    else:                    equation += f' - {coefs[5]}'\n",
    "                    if (case%8)//4     == 0: equation += f' + {coefs[6]}('\n",
    "                    else:                    equation += f' - {coefs[6]}('\n",
    "                    if (case%4)//2     == 0: equation += f' {coefs[7]}x'\n",
    "                    else:                    equation += f' -{coefs[7]}x'\n",
    "                    if case%2          == 0: equation += f' + {coefs[8]})'\n",
    "                    else:                    equation += f' - {coefs[8]})'   \n",
    "                else:\n",
    "                    # ax + b + c(dx + f) = gx + h + jx + k    \n",
    "                    if (case%512)//256 == 0: equation  = f'{coefs[0]}x'\n",
    "                    else:                    equation  = f'-{coefs[0]}x'\n",
    "                    if (case%256)//128 == 0: equation += f' + {coefs[1]}'\n",
    "                    else:                    equation += f' - {coefs[1]}'\n",
    "                    if (case%128)//64  == 0: equation += f' + {coefs[2]}('\n",
    "                    else:                    equation += f' - {coefs[2]}('\n",
    "                    if (case%64)//32   == 0: equation += f'{coefs[3]}x'\n",
    "                    else:                    equation += f'-{coefs[3]}x'\n",
    "                    if (case%32)//16   == 0: equation += f' + {coefs[4]}) ='\n",
    "                    else:                    equation += f' - {coefs[4]}) ='\n",
    "                    if (case%16)//8    == 0: equation += f' {coefs[5]}x'\n",
    "                    else:                    equation += f' -{coefs[5]}x'\n",
    "                    if (case%8)//4     == 0: equation += f' + {coefs[6]}'\n",
    "                    else:                    equation += f' - {coefs[6]}'\n",
    "                    if (case%4)//2     == 0: equation += f' + {coefs[7]}x'\n",
    "                    else:                    equation += f' - {coefs[7]}x'\n",
    "                    if case%2          == 0: equation += f' + {coefs[8]}'\n",
    "                    else:                    equation += f' - {coefs[8]}'   \n",
    "            else:\n",
    "                # no distribution, combining on both sides:\n",
    "                # ax + b + cx + d = fx + g + hx + j   (256 cases)\n",
    "                case = random.choice(list(range(256)))\n",
    "                if case//128 == 0:      equation = f'{coefs[0]}x'\n",
    "                else:                   equation = f'-{coefs[0]}x'\n",
    "                if (case%128)//64 == 0: equation += f' + {coefs[1]}'\n",
    "                else:                   equation += f' - {coefs[1]}'\n",
    "                if (case%64)//32  == 0: equation += f' + {coefs[2]}x'\n",
    "                else:                   equation += f' - {coefs[2]}x'\n",
    "                if (case%32)//16  == 0: equation += f' + {coefs[3]} ='\n",
    "                else:                   equation += f' - {coefs[3]} ='\n",
    "                if (case%16)//8   == 0: equation += f' {coefs[4]}x'\n",
    "                else:                   equation += f' -{coefs[4]}x'\n",
    "                if (case%8)//4    == 0: equation += f' + {coefs[5]}'\n",
    "                else:                   equation += f' - {coefs[5]}'\n",
    "                if (case%4)//2    == 0: equation += f' + {coefs[6]}x'\n",
    "                else:                   equation += f' - {coefs[6]}x'\n",
    "                if case%2         == 0: equation += f' + {coefs[7]}'\n",
    "                else:                   equation += f' - {coefs[7]}'\n",
    "\n",
    "        elif combining == 1:\n",
    "            if distribution == 2:\n",
    "                # distribution on both sides and combining on one side (512 cases)\n",
    "                case = random.choice(list(range(512)))\n",
    "                if case//256 == 0:\n",
    "                    # ax + b + c(dx + f) = g(hx + j)\n",
    "                    if (case%256)//128 == 0: equation  = f'{coefs[0]}x'\n",
    "                    else:                    equation  = f'-{coefs[0]}x'\n",
    "                    if (case%128)//64  == 0: equation += f' + {coefs[1]}'\n",
    "                    else:                    equation += f' - {coefs[1]}'\n",
    "                    if (case%64)//32   == 0: equation += f' + {coefs[2]}('\n",
    "                    else:                    equation += f' - {coefs[2]}('\n",
    "                    if (case%32)//16   == 0: equation += f'{coefs[3]}x'\n",
    "                    else:                    equation += f'-{coefs[3]}x'\n",
    "                    if (case%16)//8    == 0: equation += f' + {coefs[4]}) ='\n",
    "                    else:                    equation += f' - {coefs[4]}) ='\n",
    "                    if (case%8)//4     == 0: equation += f' {coefs[5]}('\n",
    "                    else:                    equation += f' -{coefs[5]}('\n",
    "                    if (case%4)//2     == 0: equation += f'{coefs[6]}x'\n",
    "                    else:                    equation += f'-{coefs[6]}x'\n",
    "                    if case%2          == 0: equation += f' + {coefs[7]})'\n",
    "                    else:                    equation += f' - {coefs[7]})'\n",
    "                else:\n",
    "                    # a(bx + c) = dx + f + g(hx + j)  \n",
    "                    if (case%256)//128 == 0: equation  = f'{coefs[0]}('\n",
    "                    else:                    equation  = f'-{coefs[0]}('\n",
    "                    if (case%128)//64  == 0: equation += f'{coefs[1]}x'\n",
    "                    else:                    equation += f'-{coefs[1]}x'\n",
    "                    if (case%64)//32   == 0: equation += f' + {coefs[2]}) ='\n",
    "                    else:                    equation += f' - {coefs[2]}) ='\n",
    "                    if (case%32)//16   == 0: equation += f' {coefs[3]}x'\n",
    "                    else:                    equation += f' -{coefs[3]}x'\n",
    "                    if (case%16)//8    == 0: equation += f' + {coefs[4]}'\n",
    "                    else:                    equation += f' - {coefs[4]}'\n",
    "                    if (case%8)//4     == 0: equation += f' + {coefs[5]}('\n",
    "                    else:                    equation += f' - {coefs[5]}('\n",
    "                    if (case%4)//2     == 0: equation += f'{coefs[6]}x'\n",
    "                    else:                    equation += f'-{coefs[6]}x'\n",
    "                    if case%2          == 0: equation += f' + {coefs[7]})'\n",
    "                    else:                    equation += f' - {coefs[7]})'\n",
    "\n",
    "                    \n",
    "            elif distribution == 1:\n",
    "                # distribution on one side and combining on one side (512 cases)\n",
    "                case = random.choice(list(range(512)))\n",
    "                if case//128 == 0:\n",
    "                    # ax + b + c(dx + f) = gx + h    \n",
    "                    if (case%128)//64== 0: equation  = f'{coefs[0]}x'\n",
    "                    else:                  equation  = f'-{coefs[0]}x'\n",
    "                    if (case%64)//32 == 0: equation += f' + {coefs[1]}'\n",
    "                    else:                  equation += f' - {coefs[1]}'\n",
    "                    if (case%32)//16 == 0: equation += f' + {coefs[2]}('\n",
    "                    else:                  equation += f' - {coefs[2]}('\n",
    "                    if (case%16)//8  == 0: equation += f'{coefs[3]}x'\n",
    "                    else:                  equation += f'-{coefs[3]}x'\n",
    "                    if (case%8)//4   == 0: equation += f' + {coefs[4]}) ='\n",
    "                    else:                  equation += f' - {coefs[4]}) ='\n",
    "                    if (case%4)//2   == 0: equation += f' {coefs[5]}x'\n",
    "                    else:                  equation += f' -{coefs[5]}x'\n",
    "                    if case%2        == 0: equation += f' + {coefs[6]}'\n",
    "                    else:                  equation += f' - {coefs[6]}'   \n",
    "                elif case//128 == 1:\n",
    "                    # ax + b = cx + d + f(gx + h)    \n",
    "                    if (case%128)//64== 0: equation  = f'{coefs[0]}x'\n",
    "                    else:                  equation  = f'-{coefs[0]}x'\n",
    "                    if (case%64)//32 == 0: equation += f' + {coefs[1]} ='\n",
    "                    else:                  equation += f' - {coefs[1]} ='\n",
    "                    if (case%32)//16 == 0: equation += f'{coefs[2]}x'\n",
    "                    else:                  equation += f'-{coefs[2]}x'\n",
    "                    if (case%16)//8  == 0: equation += f' + {coefs[3]}'\n",
    "                    else:                  equation += f' - {coefs[3]}'\n",
    "                    if (case%8)//4   == 0: equation += f' + {coefs[4]}('\n",
    "                    else:                  equation += f' - {coefs[4]}('\n",
    "                    if (case%4)//2   == 0: equation += f'{coefs[5]}x'\n",
    "                    else:                  equation += f'-{coefs[5]}x'\n",
    "                    if case%2        == 0: equation += f' + {coefs[6]})'\n",
    "                    else:                  equation += f' - {coefs[6]})'\n",
    "                elif case//128 == 2:\n",
    "                    # ax + b + cx + d = f(gx + h)    \n",
    "                    if (case%128)//64== 0: equation  = f'{coefs[0]}x'\n",
    "                    else:                  equation  = f'-{coefs[0]}x'\n",
    "                    if (case%64)//32 == 0: equation += f'+{coefs[1]}'\n",
    "                    else:                  equation += f' - {coefs[1]}'\n",
    "                    if (case%32)//16 == 0: equation += f' + {coefs[2]}x'\n",
    "                    else:                  equation += f' - {coefs[2]}x'\n",
    "                    if (case%16)//8  == 0: equation += f' + {coefs[3]} ='\n",
    "                    else:                  equation += f' - {coefs[3]} ='\n",
    "                    if (case%8)//4   == 0: equation += f' {coefs[4]}('\n",
    "                    else:                  equation += f' -{coefs[4]}('\n",
    "                    if (case%4)//2   == 0: equation += f'{coefs[5]}x'\n",
    "                    else:                  equation += f'-{coefs[5]}x'\n",
    "                    if case%2        == 0: equation += f' + {coefs[6]})'\n",
    "                    else:                  equation += f' - {coefs[6]})'\n",
    "                else:\n",
    "                    # a(bx + c) = dx + f + gx + h    \n",
    "                    if (case%128)//64== 0: equation  = f'{coefs[0]}('\n",
    "                    else:                  equation  = f'-{coefs[0]}('\n",
    "                    if (case%64)//32 == 0: equation += f'{coefs[1]}x'\n",
    "                    else:                  equation += f'-{coefs[1]}x'\n",
    "                    if (case%32)//16 == 0: equation += f' + {coefs[2]}) ='\n",
    "                    else:                  equation += f' - {coefs[2]}) ='\n",
    "                    if (case%16)//8  == 0: equation += f' {coefs[3]}x'\n",
    "                    else:                  equation += f' -{coefs[3]}x'\n",
    "                    if (case%8)//4   == 0: equation += f' + {coefs[4]}'\n",
    "                    else:                  equation += f' - {coefs[4]}'\n",
    "                    if (case%4)//2   == 0: equation += f' + {coefs[5]}x'\n",
    "                    else:                  equation += f' - {coefs[5]}x'\n",
    "                    if case%2        == 0: equation += f' + {coefs[6]}'\n",
    "                    else:                  equation += f' - {coefs[6]}'\n",
    "\n",
    "            else:\n",
    "                # no distribution, combining on one side:\n",
    "                # ax + b = cx + d + fx + g OR ax + b + fx + g = cx + d (128 cases)\n",
    "                case = random.choice(list(range(128)))\n",
    "                if (case%64)//32 == 0: equation  = f'{coefs[0]}x'               \n",
    "                else:                  equation  = f'-{coefs[0]}x'\n",
    "                if (case%32)//16 == 0: equation += f' + {coefs[1]}'\n",
    "                else:                  equation += f' - {coefs[1]}'\n",
    "                if case//64 == 0:\n",
    "                    if (case%16)//8 == 0: equation += f' = {coefs[2]}x'\n",
    "                    else:                 equation += f' = -{coefs[2]}x'\n",
    "                    if (case%8)//4  == 0: equation += f' + {coefs[3]}'\n",
    "                    else:                 equation += f' - {coefs[3]}'\n",
    "                    if (case%4)//2  == 0: equation += f' + {coefs[4]}x'\n",
    "                    else:                 equation += f' - {coefs[4]}x'\n",
    "                else:\n",
    "                    if (case%16)//8 == 0: equation += f' + {coefs[2]}x'\n",
    "                    else:                 equation += f' - {coefs[2]}x'\n",
    "                    if (case%8)//4  == 0: equation += f' + {coefs[3]} ='\n",
    "                    else:                 equation += f' - {coefs[3]} ='\n",
    "                    if (case%4)//2  == 0: equation += f' {coefs[4]}x'\n",
    "                    else:                 equation += f' -{coefs[4]}x'\n",
    "                if case%2       == 0: equation += f' + {coefs[5]}'\n",
    "                else:                 equation += f' - {coefs[5]}'\n",
    "    \n",
    "        else:\n",
    "            if distribution == 2:\n",
    "                # distribution on both sides, no combining: c(dx + f) = i(jx + k) (64 cases with + or - coefs)\n",
    "                case = random.choice(list(range(64)))\n",
    "                if case//32      == 0: equation  = f'{coefs[0]}('\n",
    "                else:                  equation  = f'-{coefs[0]}('\n",
    "                if (case%32)//16 == 0: equation += f'{coefs[1]}x'\n",
    "                else:                  equation += f'-{coefs[1]}x'\n",
    "                if (case%16)//8  == 0: equation += f' + {coefs[2]}) ='\n",
    "                else:                  equation += f' - {coefs[2]}) ='\n",
    "                if (case%8)//4   == 0: equation += f' {coefs[3]}('\n",
    "                else:                  equation += f' -{coefs[3]}('\n",
    "                if (case%4)//2   == 0: equation += f'{coefs[4]}x'\n",
    "                else:                  equation += f'-{coefs[4]}x'\n",
    "                if case%2        == 0: equation += f' + {coefs[5]})'\n",
    "                else:                  equation += f' - {coefs[5]})'\n",
    "            elif distribution == 1:\n",
    "                # distribution on one side, no combining:\n",
    "                # c(dx + f) = gx + h   OR ax + b = i(jx + k) (64 cases with pos or neg coefs)\n",
    "                case = random.choice(list(range(64)))\n",
    "                if case//32 == 0:\n",
    "                    if (case%32)//16 == 0: equation  = f'{coefs[0]}('\n",
    "                    else:                  equation  = f'-{coefs[0]}('\n",
    "                    if (case%16)//8  == 0: equation += f'{coefs[1]}x'\n",
    "                    else:                  equation += f'-{coefs[1]}x'\n",
    "                    if (case%8)//4   == 0: equation += f' + {coefs[2]}) ='\n",
    "                    else:                  equation += f' - {coefs[2]}) ='\n",
    "                    if (case%4)//2   == 0: equation += f' {coefs[3]}x'\n",
    "                    else:                  equation += f' -{coefs[3]}x'\n",
    "                    if case%2        == 0: equation += f' + {coefs[4]}'\n",
    "                    else:                  equation += f' - {coefs[4]}'\n",
    "                else:\n",
    "                    if (case%32)//16 == 0: equation  = f'{coefs[0]}x'\n",
    "                    else:                  equation  = f'-{coefs[0]}x'\n",
    "                    if (case%16)//8  == 0: equation += f' + {coefs[1]} ='\n",
    "                    else:                  equation += f' - {coefs[1]} ='\n",
    "                    if (case%8)//4   == 0: equation += f' {coefs[2]}('\n",
    "                    else:                  equation += f' -{coefs[2]}('\n",
    "                    if (case%4)//2   == 0: equation += f'{coefs[3]}x'\n",
    "                    else:                  equation += f'-{coefs[3]}x'\n",
    "                    if case%2        == 0: equation += f' + {coefs[4]})'\n",
    "                    else:                  equation += f' - {coefs[4]})'                    \n",
    "            else:\n",
    "                # no distribution, no combining, but x on both sides: ax+b=cx+d, coefs can be pos or neg (16 cases)\n",
    "                case = random.choice(list(range(16)))\n",
    "                if case//8 == 0:     equation  = f'{coefs[0]}x'\n",
    "                else:                equation  = f'-{coefs[0]}x'\n",
    "                if (case%8)//4 == 0: equation += f' + {coefs[1]} ='\n",
    "                else:                equation += f' - {coefs[1]} ='\n",
    "                if (case%4)//2 == 0: equation += f' {coefs[2]}x'\n",
    "                else:                equation += f' -{coefs[2]}x'\n",
    "                if case%2      == 0: equation += f' + {coefs[3]}'\n",
    "                else:                equation += f' - {coefs[3]}'\n",
    "                \n",
    "                \n",
    "    \n",
    "    else:       \n",
    "        # x on only one side: ax + b = c OR a = bx + c, and a,b,c can be pos or neg (16 cases)\n",
    "        case = random.choice(list(range(16))) \n",
    "        if case//8 == 0:\n",
    "                if (case%8)//4 == 0: equation  = f'{coefs[0]}x'\n",
    "                else:                equation  = f'-{coefs[0]}x'\n",
    "                if (case%4)//2 == 0: equation += f' + {coefs[1]} ='\n",
    "                else:                equation += f' - {coefs[1]} ='\n",
    "                if case%2      == 0: equation += f' {coefs[2]}'\n",
    "                else:                equation += f' -{coefs[2]}'            \n",
    "        else:\n",
    "                if (case%8)//4 == 0: equation  = f'{coefs[0]} ='\n",
    "                else:                equation  = f'-{coefs[0]} ='\n",
    "                if (case%4)//2 == 0: equation += f' {coefs[1]}x'\n",
    "                else:                equation += f' -{coefs[1]}x'\n",
    "                if case%2      == 0: equation += f' + {coefs[2]}'\n",
    "                else:                equation += f' - {coefs[2]}'            \n",
    "\n",
    "    return equation\n",
    "    \n",
    "    "
   ]
  },
  {
   "cell_type": "code",
   "execution_count": 224,
   "metadata": {},
   "outputs": [
    {
     "name": "stdout",
     "output_type": "stream",
     "text": [
      "10x + 5 = -8\n",
      "-10 = 6x + 1\n",
      "-4x - 8 = 2\n",
      "1 = 6x - 5\n",
      "2x + 4 = -5\n",
      "-4 = -4x + 10\n",
      "10x - 2 = 1\n",
      "-7x + 5 = -8\n",
      "4x - 10 = 1\n",
      "1 = 10x + 4\n"
     ]
    }
   ],
   "source": [
    "# make_equation(x_on_both, distribution, combining)\n",
    "for n in range(10):\n",
    "    equation = make_equation(False, False, False)\n",
    "    print(equation)"
   ]
  },
  {
   "cell_type": "code",
   "execution_count": 225,
   "metadata": {},
   "outputs": [
    {
     "name": "stdout",
     "output_type": "stream",
     "text": [
      "-7x + 2 = 9x - 6\n",
      "6x - 6 = -10x - 6\n",
      "10x - 8 = 8x - 10\n",
      "1x + 9 = 4x - 5\n",
      "9x + 1 = -2x - 5\n",
      "-5x - 4 = 4x - 3\n",
      "-3x + 2 = 2x + 8\n",
      "9x - 5 = 2x + 6\n",
      "-5x - 5 = 4x - 3\n",
      "10x - 9 = 3x + 5\n"
     ]
    }
   ],
   "source": [
    "# make_equation(x_on_both, distribution, combining)\n",
    "for n in range(10):\n",
    "    equation = make_equation(True, False, False)\n",
    "    print(equation)"
   ]
  },
  {
   "cell_type": "code",
   "execution_count": 226,
   "metadata": {},
   "outputs": [
    {
     "name": "stdout",
     "output_type": "stream",
     "text": [
      "-7(-1x - 9) = -9x - 8\n",
      "6(10x + 7) = 4x - 3\n",
      "-5x - 6 = 1(4x + 1)\n",
      "-2x + 1 = 3(10x - 4)\n",
      "5x - 6 = 8(10x + 3)\n",
      "9(6x + 5) = -1x + 2\n",
      "7x - 8 = -4(4x + 2)\n",
      "-9(-8x - 5) = -1x - 4\n",
      "6(-10x - 3) = 2x + 8\n",
      "-10x - 7 = -6(-7x - 4)\n"
     ]
    }
   ],
   "source": [
    "# make_equation(x_on_both, distribution, combining)\n",
    "for n in range(10):\n",
    "    equation = make_equation(True, 1, False)\n",
    "    print(equation)"
   ]
  },
  {
   "cell_type": "code",
   "execution_count": 227,
   "metadata": {},
   "outputs": [
    {
     "name": "stdout",
     "output_type": "stream",
     "text": [
      "7(10x - 3) = -1(-2x + 1)\n",
      "1(-9x - 6) = -7(1x + 1)\n",
      "2(1x - 7) = 7(7x + 3)\n",
      "7(2x + 1) = -4(-8x - 6)\n",
      "-5(-7x + 1) = -1(8x - 7)\n",
      "-2(-8x - 6) = 10(10x - 1)\n",
      "-5(3x - 6) = -2(6x - 2)\n",
      "2(8x + 3) = 5(-6x - 10)\n",
      "-5(2x + 4) = -9(-6x + 6)\n",
      "1(9x - 5) = -3(-4x + 5)\n"
     ]
    }
   ],
   "source": [
    "# make_equation(x_on_both, distribution, combining)\n",
    "for n in range(10):\n",
    "    equation = make_equation(True, 2, False)\n",
    "    print(equation)"
   ]
  },
  {
   "cell_type": "code",
   "execution_count": 228,
   "metadata": {},
   "outputs": [
    {
     "name": "stdout",
     "output_type": "stream",
     "text": [
      "-9x - 5 = -8x - 4 - 3x - 1\n",
      "5x - 8 + 2x + 7 = -7x + 7\n",
      "8x - 10 = 2x + 5 - 10x - 7\n",
      "6x - 6 + 4x - 7 = 7x + 8\n",
      "-3x + 2 = -5x + 9 + 8x + 7\n",
      "4x - 6 = -3x - 2 + 1x + 3\n",
      "-10x + 5 - 8x - 7 = 5x - 8\n",
      "-9x + 1 = -1x - 10 + 9x - 7\n",
      "5x - 4 = 4x + 9 + 4x - 1\n",
      "8x - 7 + 3x - 5 = 10x + 4\n"
     ]
    }
   ],
   "source": [
    "# make_equation(x_on_both, distribution, combining)\n",
    "for n in range(10):\n",
    "    equation = make_equation(True, False, 1)\n",
    "    print(equation)"
   ]
  },
  {
   "cell_type": "code",
   "execution_count": 229,
   "metadata": {},
   "outputs": [
    {
     "name": "stdout",
     "output_type": "stream",
     "text": [
      "7(-7x + 4) = -8x - 2 - 9x + 3\n",
      "5x - 7 =-10x + 9 + 3(6x - 6)\n",
      "-3(-6x - 3) = -6x - 9 + 3x - 8\n",
      "-6x+1 - 1x + 6 = -1(-8x + 4)\n",
      "3(7x + 6) = 4x + 3 - 1x + 2\n",
      "-3x - 7 - 8(-5x - 9) = 5x + 6\n",
      "-1x+2 - 6x + 3 = -6(3x + 4)\n",
      "-3x + 2 =3x - 8 - 7(4x + 2)\n",
      "6x + 4 - 9(5x - 4) = 4x + 7\n",
      "1(10x + 2) = 6x - 2 - 6x - 9\n"
     ]
    }
   ],
   "source": [
    "# make_equation(x_on_both, distribution, combining)\n",
    "for n in range(10):\n",
    "    equation = make_equation(True, 1, 1)\n",
    "    print(equation)"
   ]
  },
  {
   "cell_type": "code",
   "execution_count": 230,
   "metadata": {},
   "outputs": [
    {
     "name": "stdout",
     "output_type": "stream",
     "text": [
      "7(4x - 4) = 4x - 2 + 3(2x - 3)\n",
      "2(2x - 10) = 6x + 6 + 4(1x + 4)\n",
      "-6(-1x + 1) = 1x - 3 + 8(-5x - 1)\n",
      "-7(5x + 4) = 9x - 1 - 6(-3x + 5)\n",
      "3(-8x + 6) = -7x + 9 + 7(5x - 9)\n",
      "7(8x - 8) = -4x + 5 - 10(-7x + 10)\n",
      "-2(3x + 4) = -2x + 8 + 7(-10x - 5)\n",
      "6x + 2 + 3(2x + 6) = 9(-5x + 2)\n",
      "-9(1x - 8) = -8x - 8 - 9(4x + 6)\n",
      "8x - 9 - 9(-6x + 3) = -7(-8x + 9)\n"
     ]
    }
   ],
   "source": [
    "# make_equation(x_on_both, distribution, combining)\n",
    "for n in range(10):\n",
    "    equation = make_equation(True, 2, 1)\n",
    "    print(equation)"
   ]
  },
  {
   "cell_type": "code",
   "execution_count": 231,
   "metadata": {},
   "outputs": [
    {
     "name": "stdout",
     "output_type": "stream",
     "text": [
      "-9x - 10 - 8x + 4 = -2x - 6 - 4x + 8\n",
      "5x + 8 - 9x - 4 = -3x + 5 - 10x + 6\n",
      "3x + 10 + 1x - 3 = 9x + 3 - 3x - 5\n",
      "5x - 4 + 9x + 8 = 4x - 2 + 3x - 4\n",
      "3x - 5 - 1x - 8 = -4x + 6 + 10x + 9\n",
      "6x - 7 + 9x + 6 = -9x - 6 - 7x - 1\n",
      "6x - 9 - 10x + 5 = -7x - 5 + 6x + 3\n",
      "-10x + 3 - 4x - 7 = -1x + 1 + 10x - 3\n",
      "-4x - 10 + 1x + 8 = -1x - 6 + 4x + 6\n",
      "9x + 3 + 4x - 1 = -6x + 1 - 8x - 8\n"
     ]
    }
   ],
   "source": [
    "# make_equation(x_on_both, distribution, combining)\n",
    "for n in range(10):\n",
    "    equation = make_equation(True, False, 2)\n",
    "    print(equation)"
   ]
  },
  {
   "cell_type": "code",
   "execution_count": 232,
   "metadata": {},
   "outputs": [
    {
     "name": "stdout",
     "output_type": "stream",
     "text": [
      "1x + 1 + 5x + 6 = -10x + 7 + 7( 4x - 5)\n",
      "-5x + 6 + 6x - 3 = 5x - 2 + 9( -5x - 6)\n",
      "3x + 4 + 2(3x + 3) = 4x - 4 + 4x + 2\n",
      "10x - 6 + 7x + 2 = -10x - 4 + 2( -9x + 8)\n",
      "8x - 3 - 10x + 2 = 1x + 3 - 2( 2x - 8)\n",
      "-4x + 9 - 6(8x + 7) = 9x + 7 + 1x - 5\n",
      "-5x + 4 - 9x + 8 = -8x + 7 + 1( -3x - 3)\n",
      "9x - 5 - 5(-4x + 7) = 10x - 3 + 2x + 8\n",
      "6x + 10 - 2(-5x + 9) = 1x + 5 - 9x + 10\n",
      "-4x - 10 - 10(-7x - 2) = 3x - 7 + 6x + 2\n"
     ]
    }
   ],
   "source": [
    "# make_equation(x_on_both, distribution, combining)\n",
    "for n in range(10):\n",
    "    equation = make_equation(True, 1, 2)\n",
    "    print(equation)"
   ]
  },
  {
   "cell_type": "code",
   "execution_count": 233,
   "metadata": {},
   "outputs": [
    {
     "name": "stdout",
     "output_type": "stream",
     "text": [
      "7x +3 + 7(-3x - 9) = 9x - 3 - 9(8x - 8)\n",
      " -1x +3 - 8(-5x - 8) = -3x - 7 - 7(9x - 6)\n",
      "2x - 1 + 7(-7x - 5) = -3x - 3 + 5(10x - 9)\n",
      "4x - 9 + 10(4x + 3) = -6x - 1 - 2(3x + 6)\n",
      " -8x +2 + 5(-6x - 1) = -5x - 7 + 4(-1x + 3)\n",
      " -8x - 5 + 8(-2x - 4) = 8x + 6 + 10(-3x + 1)\n",
      " -6x +7 - 8(-3x - 9) = -10x - 1 - 9(5x + 7)\n",
      "8x +3 - 7(6x - 1) = -8x - 5 + 6(-7x + 7)\n",
      "1x - 4 + 4(-2x - 3) = -10x + 5 - 4(1x - 7)\n",
      " -8x - 1 - 9(-7x + 1) = -3x - 6 + 4(1x + 9)\n"
     ]
    }
   ],
   "source": [
    "# make_equation(x_on_both, distribution, combining)\n",
    "for n in range(10):\n",
    "    equation = make_equation(True, 2, 2)\n",
    "    print(equation)"
   ]
  },
  {
   "cell_type": "code",
   "execution_count": 295,
   "metadata": {},
   "outputs": [],
   "source": [
    "def simplify_radical(start):\n",
    "    \n",
    "    perf_squares = [c*c for c in list(range(50,0,-1))]\n",
    "    num_range = list(range(1,101))\n",
    "    \n",
    "    chk = start%1\n",
    "    \n",
    "    if chk != 0:\n",
    "        nums = [n for n in num_range for d in num_range]\n",
    "        dens = [d for n in num_range for d in num_range]\n",
    "        decimals= [n/d for n in num_range for d in num_range]\n",
    "        selected = [j for j,c in enumerate(decimals) if np.round(np.abs(chk-c),6)==0]\n",
    "        if len(selected)<1:\n",
    "            return None, None, None\n",
    "        else:\n",
    "            m = selected[0]\n",
    "            chk = nums[m]\n",
    "            start_denom = dens[m]        \n",
    "    else:\n",
    "        start_denom = 1\n",
    "    print(f'{start//1} + {chk}/{start_denom}')\n",
    "    \n",
    "    start_num = (start//1)*start_denom + chk\n",
    "    \n",
    "    print(f'{start_num} / {start_denom}')\n",
    "    \n",
    "    if start_denom not in perf_squares:\n",
    "        start_num = start_num*start_denom\n",
    "        start_denom = start_denom*start_denom\n",
    "        print(f'{start_num} / {start_denom}')\n",
    "\n",
    "    denom = np.round(np.power(start_denom,0.5))\n",
    "    squares = [s for s in perf_squares if start_num%s==0]\n",
    "    in_rad = start_num// squares[0]\n",
    "    out_rad= np.power(squares[0],0.5)\n",
    "    \n",
    "    print(f'SQRT({start}) = {out_rad}SQRT({in_rad})/{denom}')\n",
    "    \n",
    "    return out_rad, in_rad, denom"
   ]
  },
  {
   "cell_type": "code",
   "execution_count": 296,
   "metadata": {},
   "outputs": [
    {
     "name": "stdout",
     "output_type": "stream",
     "text": [
      "3 + 0/1\n",
      "3 / 1\n",
      "SQRT(3) = 1.0SQRT(3)/1.0\n"
     ]
    },
    {
     "data": {
      "text/plain": [
       "(1.0, 3, 1.0)"
      ]
     },
     "execution_count": 296,
     "metadata": {},
     "output_type": "execute_result"
    }
   ],
   "source": [
    "simplify_radical(3)"
   ]
  },
  {
   "cell_type": "code",
   "execution_count": 297,
   "metadata": {},
   "outputs": [
    {
     "name": "stdout",
     "output_type": "stream",
     "text": [
      "4 + 0/1\n",
      "4 / 1\n",
      "SQRT(4) = 2.0SQRT(1)/1.0\n"
     ]
    },
    {
     "data": {
      "text/plain": [
       "(2.0, 1, 1.0)"
      ]
     },
     "execution_count": 297,
     "metadata": {},
     "output_type": "execute_result"
    }
   ],
   "source": [
    "simplify_radical(4)"
   ]
  },
  {
   "cell_type": "code",
   "execution_count": 298,
   "metadata": {},
   "outputs": [
    {
     "name": "stdout",
     "output_type": "stream",
     "text": [
      "0.0 + 4/9\n",
      "4.0 / 9\n",
      "SQRT(0.4444444444444) = 2.0SQRT(1.0)/3.0\n"
     ]
    },
    {
     "data": {
      "text/plain": [
       "(2.0, 1.0, 3.0)"
      ]
     },
     "execution_count": 298,
     "metadata": {},
     "output_type": "execute_result"
    }
   ],
   "source": [
    "simplify_radical(.4444444444444)"
   ]
  },
  {
   "cell_type": "code",
   "execution_count": 299,
   "metadata": {},
   "outputs": [
    {
     "name": "stdout",
     "output_type": "stream",
     "text": [
      "2.0 + 1/4\n",
      "9.0 / 4\n",
      "SQRT(2.25) = 3.0SQRT(1.0)/2.0\n"
     ]
    },
    {
     "data": {
      "text/plain": [
       "(3.0, 1.0, 2.0)"
      ]
     },
     "execution_count": 299,
     "metadata": {},
     "output_type": "execute_result"
    }
   ],
   "source": [
    "simplify_radical(2.25)"
   ]
  },
  {
   "cell_type": "code",
   "execution_count": 300,
   "metadata": {},
   "outputs": [
    {
     "name": "stdout",
     "output_type": "stream",
     "text": [
      "2.0 + 1/6\n",
      "13.0 / 6\n",
      "78.0 / 36\n",
      "SQRT(2.1666666666666665) = 1.0SQRT(78.0)/6.0\n"
     ]
    },
    {
     "data": {
      "text/plain": [
       "(1.0, 78.0, 6.0)"
      ]
     },
     "execution_count": 300,
     "metadata": {},
     "output_type": "execute_result"
    }
   ],
   "source": [
    "simplify_radical(2.1666666666666666666)"
   ]
  },
  {
   "cell_type": "code",
   "execution_count": 306,
   "metadata": {},
   "outputs": [],
   "source": [
    "def simplify_fraction(n0, d0):\n",
    "    \n",
    "    # simplifies the fraction n0/d0, if possible\n",
    "    \n",
    "    chk = n0/d0\n",
    "    sign = (chk/np.abs(chk))\n",
    "    n0 = np.abs(n0)\n",
    "    d0 = np.abs(d0)\n",
    "    \n",
    "    m = max([n0, d0])\n",
    "    common_factors = [j for j in range(2,(m+1)) if (n0%j==0) and (d0%j==0)]\n",
    "    if len(common_factors)<1:\n",
    "        n1 = int(sign*n0)\n",
    "        d1 = d0\n",
    "    else:\n",
    "        gcf = max(common_factors)\n",
    "        n1 = int(sign*n0/gcf)\n",
    "        d1 = int(d0/gcf)\n",
    "    \n",
    "    return n1, d1"
   ]
  },
  {
   "cell_type": "code",
   "execution_count": 307,
   "metadata": {},
   "outputs": [
    {
     "data": {
      "text/plain": [
       "(3, 5)"
      ]
     },
     "execution_count": 307,
     "metadata": {},
     "output_type": "execute_result"
    }
   ],
   "source": [
    "simplify_fraction(30,50)"
   ]
  },
  {
   "cell_type": "code",
   "execution_count": 308,
   "metadata": {},
   "outputs": [
    {
     "data": {
      "text/plain": [
       "(2, 7)"
      ]
     },
     "execution_count": 308,
     "metadata": {},
     "output_type": "execute_result"
    }
   ],
   "source": [
    "simplify_fraction(2,7)"
   ]
  },
  {
   "cell_type": "code",
   "execution_count": 309,
   "metadata": {},
   "outputs": [
    {
     "data": {
      "text/plain": [
       "(-3, 4)"
      ]
     },
     "execution_count": 309,
     "metadata": {},
     "output_type": "execute_result"
    }
   ],
   "source": [
    "simplify_fraction(-15,20)"
   ]
  },
  {
   "cell_type": "code",
   "execution_count": 310,
   "metadata": {},
   "outputs": [
    {
     "data": {
      "text/plain": [
       "(-3, 4)"
      ]
     },
     "execution_count": 310,
     "metadata": {},
     "output_type": "execute_result"
    }
   ],
   "source": [
    "simplify_fraction(15,-20)"
   ]
  },
  {
   "cell_type": "code",
   "execution_count": 311,
   "metadata": {},
   "outputs": [
    {
     "data": {
      "text/plain": [
       "(3, 4)"
      ]
     },
     "execution_count": 311,
     "metadata": {},
     "output_type": "execute_result"
    }
   ],
   "source": [
    "simplify_fraction(-15,-20)"
   ]
  },
  {
   "cell_type": "code",
   "execution_count": 312,
   "metadata": {},
   "outputs": [
    {
     "data": {
      "text/plain": [
       "[-10, -9, -8, -7, -6, -5, -4, -3, -2, -1, 1, 2, 3, 4, 5, 6, 7, 8, 9, 10]"
      ]
     },
     "execution_count": 312,
     "metadata": {},
     "output_type": "execute_result"
    }
   ],
   "source": [
    "coef_options = list(range(-10,0)) + list(range(1,11))\n",
    "coef_options"
   ]
  },
  {
   "cell_type": "code",
   "execution_count": 329,
   "metadata": {},
   "outputs": [],
   "source": [
    "def decimal_to_fraction(chk):\n",
    "    \n",
    "    num_range = list(range(1,201))\n",
    "    nums = [n for n in num_range for d in num_range]\n",
    "    dens = [d for n in num_range for d in num_range]\n",
    "    decimals= [n/d for n in num_range for d in num_range]\n",
    "    selected = [j for j,c in enumerate(decimals) if np.round(np.abs(chk-c),6)==0]\n",
    "    if len(selected)<1:\n",
    "        print(chk)\n",
    "        return None, None\n",
    "    else:\n",
    "        m = selected[0]\n",
    "        numer = nums[m]\n",
    "        denom = dens[m]        \n",
    "        return numer, denom\n",
    "\n",
    "def combine_string(start):\n",
    "    \n",
    "    # takes in a string that might be something like \"-2 + 3/4\", evaluates it and turns it back into a fraction if needed.\n",
    "    \n",
    "    chk = eval(start)\n",
    "    if chk<0:\n",
    "        sign = -1\n",
    "        chk = np.abs(chk)\n",
    "    else:\n",
    "        sign = 1\n",
    "    numer, denom = decimal_to_fraction(chk)\n",
    "    numer = sign*numer\n",
    "    \n",
    "    if denom!=1:\n",
    "        if numer<denom:\n",
    "            new_string = f'{numer}/{denom}'\n",
    "        else:\n",
    "            new_string = f'{numer//denom} {numer%denom}/{denom}'\n",
    "    else:\n",
    "        new_string = f'{numer}'\n",
    "    \n",
    "    return new_string\n",
    "\n",
    "    "
   ]
  },
  {
   "cell_type": "code",
   "execution_count": 330,
   "metadata": {},
   "outputs": [
    {
     "data": {
      "text/plain": [
       "'5 2/3'"
      ]
     },
     "execution_count": 330,
     "metadata": {},
     "output_type": "execute_result"
    }
   ],
   "source": [
    "combine_string('2/3 + 5')"
   ]
  },
  {
   "cell_type": "code",
   "execution_count": 331,
   "metadata": {},
   "outputs": [
    {
     "data": {
      "text/plain": [
       "'1 5/12'"
      ]
     },
     "execution_count": 331,
     "metadata": {},
     "output_type": "execute_result"
    }
   ],
   "source": [
    "combine_string('2/3 + 3/4')"
   ]
  },
  {
   "cell_type": "code",
   "execution_count": 332,
   "metadata": {},
   "outputs": [
    {
     "data": {
      "text/plain": [
       "'9/20'"
      ]
     },
     "execution_count": 332,
     "metadata": {},
     "output_type": "execute_result"
    }
   ],
   "source": [
    "combine_string('1/4 + 1/5')"
   ]
  },
  {
   "cell_type": "code",
   "execution_count": 333,
   "metadata": {},
   "outputs": [
    {
     "data": {
      "text/plain": [
       "'-5'"
      ]
     },
     "execution_count": 333,
     "metadata": {},
     "output_type": "execute_result"
    }
   ],
   "source": [
    "combine_string('3 - 8')"
   ]
  },
  {
   "cell_type": "code",
   "execution_count": 334,
   "metadata": {},
   "outputs": [
    {
     "data": {
      "text/plain": [
       "'-1/20'"
      ]
     },
     "execution_count": 334,
     "metadata": {},
     "output_type": "execute_result"
    }
   ],
   "source": [
    "combine_string('1/5 - 1/4')"
   ]
  },
  {
   "cell_type": "code",
   "execution_count": null,
   "metadata": {},
   "outputs": [],
   "source": []
  }
 ],
 "metadata": {
  "kernelspec": {
   "display_name": "Python 3",
   "language": "python",
   "name": "python3"
  },
  "language_info": {
   "codemirror_mode": {
    "name": "ipython",
    "version": 3
   },
   "file_extension": ".py",
   "mimetype": "text/x-python",
   "name": "python",
   "nbconvert_exporter": "python",
   "pygments_lexer": "ipython3",
   "version": "3.8.5"
  }
 },
 "nbformat": 4,
 "nbformat_minor": 4
}
